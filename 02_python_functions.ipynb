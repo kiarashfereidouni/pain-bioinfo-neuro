{
 "cells": [
  {
   "cell_type": "code",
   "execution_count": 54,
   "id": "294ba48b-e931-4375-97c8-39c6d4c586d3",
   "metadata": {},
   "outputs": [
    {
     "data": {
      "text/plain": [
       "25"
      ]
     },
     "execution_count": 54,
     "metadata": {},
     "output_type": "execute_result"
    }
   ],
   "source": [
    "def square_number(x):\n",
    "    return x**2\n",
    "\n",
    "square_number(5)"
   ]
  },
  {
   "cell_type": "code",
   "execution_count": 55,
   "id": "1988bfcc-7770-4ac1-8a18-14cc1ecdc222",
   "metadata": {},
   "outputs": [
    {
     "name": "stdin",
     "output_type": "stream",
     "text": [
      "What is your sequence? tacgacg\n"
     ]
    },
    {
     "name": "stdout",
     "output_type": "stream",
     "text": [
      "AUGCUGC\n"
     ]
    }
   ],
   "source": [
    "# 2. Write a function to transcribe DNA → RNA\n",
    "seq = input (\"What is your sequence?\").upper()\n",
    "RNA = \"\"\n",
    "for x in (seq):\n",
    "    if x == \"G\":\n",
    "        RNA = RNA + \"C\"\n",
    "    elif x == \"C\":\n",
    "        RNA = RNA + \"G\"\n",
    "    elif x == \"T\":\n",
    "        RNA = RNA + \"A\"\n",
    "    elif x == \"A\":\n",
    "        RNA = RNA + \"U\"\n",
    "print (RNA)"
   ]
  },
  {
   "cell_type": "code",
   "execution_count": 56,
   "id": "6234d32c-a57a-48f0-a2b5-0685218bb414",
   "metadata": {},
   "outputs": [
    {
     "name": "stdin",
     "output_type": "stream",
     "text": [
      "sequence? ataata\n",
      "motif? ata\n"
     ]
    },
    {
     "name": "stdout",
     "output_type": "stream",
     "text": [
      "[1, 4]\n"
     ]
    }
   ],
   "source": [
    "# Write a function to find motif positions in DNA\n",
    "def find_motif_in_DNA():\n",
    "    seq = input(\"sequence?\").upper()\n",
    "    motif = input(\"motif?\").upper()\n",
    "    position = []\n",
    "    for i in range (len(seq) - len(motif) + 1):\n",
    "        if seq [i:i+len(motif)] == motif:\n",
    "            position.append(i + 1)\n",
    "    return position\n",
    "    # in order to repeat the test return must be outside the for function, must be outside of \"if\" under the \"for\"\n",
    "print (find_motif_in_DNA())"
   ]
  },
  {
   "cell_type": "code",
   "execution_count": 57,
   "id": "565ff593-c960-4149-9f23-35076ec0d9e5",
   "metadata": {},
   "outputs": [
    {
     "name": "stdout",
     "output_type": "stream",
     "text": [
      "[1, 4, 7]\n"
     ]
    }
   ],
   "source": [
    "# Ref Code 2.1:\n",
    "def find_motif_positions(sequence, motif):\n",
    "    sequence = sequence.upper()\n",
    "    motif = motif.upper()\n",
    "    positions = []\n",
    "    for i in range(len(sequence) - len(motif) + 1):\n",
    "        if sequence[i:i+len(motif)] == motif:\n",
    "            positions.append(i + 1)  # +1 for biological numbering\n",
    "    return positions\n",
    "\n",
    "# Example\n",
    "dna_seq = \"ATGATGATGCG\"\n",
    "motif = \"ATG\"\n",
    "print(find_motif_positions(dna_seq, motif))\n"
   ]
  },
  {
   "cell_type": "code",
   "execution_count": 58,
   "id": "7b63d519-27df-4fc4-b346-c866abf6358b",
   "metadata": {},
   "outputs": [
    {
     "name": "stdout",
     "output_type": "stream",
     "text": [
      "[1, 3]\n"
     ]
    }
   ],
   "source": [
    "# Ref Code 2.2:\n",
    "def find_motif_positions(sequence, motif):\n",
    "    sequence = sequence.upper()\n",
    "    motif = motif.upper()\n",
    "    positions = []\n",
    "    index = 0\n",
    "    \n",
    "    while index <= len(sequence) - len(motif):\n",
    "        if sequence[index:index+len(motif)] == motif:\n",
    "            positions.append(index + 1)  # +1 for biological numbering\n",
    "        index += 1  # move only 1 base forward to allow overlaps\n",
    "    \n",
    "    return positions\n",
    "\n",
    "# Example\n",
    "dna_seq = \"ATATAT\"\n",
    "motif = \"ATA\"\n",
    "print(find_motif_positions(dna_seq, motif))  # Output: [1, 3]\n"
   ]
  },
  {
   "cell_type": "code",
   "execution_count": 59,
   "id": "e24d1a33-c8cb-47e2-be13-e959c9620547",
   "metadata": {},
   "outputs": [
    {
     "name": "stdout",
     "output_type": "stream",
     "text": [
      "minmax: [array([0.        , 0.71428571, 0.28571429, 1.        , 0.42857143])]\n",
      "zscore: [array([-1.40693001,  0.66208471, -0.57932412,  1.4896906 , -0.16552118])]\n"
     ]
    }
   ],
   "source": [
    "# 3. Write a function to normalize neural activity data\n",
    "data = [5, 10, 7, 12, 8]\n",
    "norm_data_zscore = []\n",
    "norm_data_minmax = []\n",
    "def normalized(data):\n",
    "    import numpy as np\n",
    "    norm_data_minmax.append((data - np.min(data)) / (np.max(data) - np.min(data)))\n",
    "    norm_data_zscore.append((data - np.mean(data)) / np.std(data))\n",
    "normalized(data)\n",
    "print (\"minmax:\", norm_data_minmax)\n",
    "print (\"zscore:\", norm_data_zscore)"
   ]
  },
  {
   "cell_type": "code",
   "execution_count": 60,
   "id": "d40cd047-0b18-424e-9fda-8541b4604067",
   "metadata": {},
   "outputs": [
    {
     "name": "stdout",
     "output_type": "stream",
     "text": [
      "[0.0, 0.7142857142857143, 0.2857142857142857, 1.0, 0.42857142857142855]\n",
      "[-1.4069300106240257, 0.6620847108818941, -0.5793241220216577, 1.489690599484262, -0.16552117772047373]\n"
     ]
    }
   ],
   "source": [
    "# Ref code 3.1\n",
    "def normalize_activity(data, method=\"minmax\"):\n",
    "    \"\"\"\n",
    "    Normalize neural activity data.\n",
    "    \n",
    "    Parameters:\n",
    "        data (list or array): neural activity values\n",
    "        method (str): \"minmax\" or \"zscore\"\n",
    "        \n",
    "    Returns:\n",
    "        list: normalized data\n",
    "    \"\"\"\n",
    "    import numpy as np\n",
    "    \n",
    "    data = np.array(data, dtype=float)\n",
    "    \n",
    "    if method == \"minmax\":\n",
    "        norm_data = (data - np.min(data)) / (np.max(data) - np.min(data))\n",
    "    elif method == \"zscore\":\n",
    "        norm_data = (data - np.mean(data)) / np.std(data)\n",
    "    else:\n",
    "        raise ValueError(\"Method must be 'minmax' or 'zscore'\")\n",
    "    \n",
    "    return norm_data.tolist()\n",
    "\n",
    "# Example usage\n",
    "neural_activity = [5, 10, 7, 12, 8]\n",
    "print(normalize_activity(neural_activity, method=\"minmax\"))\n",
    "print(normalize_activity(neural_activity, method=\"zscore\"))\n"
   ]
  },
  {
   "cell_type": "code",
   "execution_count": 61,
   "id": "864fe923-51d6-4534-b0cd-6a507851b033",
   "metadata": {},
   "outputs": [
    {
     "name": "stdout",
     "output_type": "stream",
     "text": [
      "Min-max normalization:\n",
      "[[0.0, 0.7142857142857143, 0.2857142857142857, 1.0, 0.42857142857142855], [0.0, 0.25, 0.5, 0.75, 1.0], [0.0, 0.0, 0.5, 0.5, 1.0]]\n",
      "Z-score normalization:\n",
      "[[-1.4069300106240257, 0.6620847108818941, -0.5793241220216577, 1.489690599484262, -0.16552117772047373], [-1.414213562373095, -0.7071067811865475, 0.0, 0.7071067811865475, 1.414213562373095], [-1.0690449676496976, -1.0690449676496976, 0.2672612419124243, 0.2672612419124243, 1.6035674514745462]]\n"
     ]
    }
   ],
   "source": [
    "# Ref code 3.2\n",
    "import numpy as np\n",
    "\n",
    "def normalize_neural_data(data, method=\"minmax\"):\n",
    "    \"\"\"\n",
    "    Normalize neural activity for multiple neurons.\n",
    "    \n",
    "    Parameters:\n",
    "        data (2D list or array): shape (n_neurons, n_timepoints)\n",
    "        method (str): \"minmax\" or \"zscore\"\n",
    "        \n",
    "    Returns:\n",
    "        2D list: normalized data\n",
    "    \"\"\"\n",
    "    data = np.array(data, dtype=float)\n",
    "    \n",
    "    if method == \"minmax\":\n",
    "        # Normalize each neuron independently\n",
    "        norm_data = (data - data.min(axis=1, keepdims=True)) / (data.max(axis=1, keepdims=True) - data.min(axis=1, keepdims=True))\n",
    "    elif method == \"zscore\":\n",
    "        norm_data = (data - data.mean(axis=1, keepdims=True)) / data.std(axis=1, keepdims=True)\n",
    "    else:\n",
    "        raise ValueError(\"Method must be 'minmax' or 'zscore'\")\n",
    "    \n",
    "    return norm_data.tolist()\n",
    "\n",
    "# Example usage: 3 neurons, 5 timepoints\n",
    "neural_activity = [\n",
    "    [5, 10, 7, 12, 8],\n",
    "    [2, 4, 6, 8, 10],\n",
    "    [1, 1, 2, 2, 3]\n",
    "]\n",
    "\n",
    "print(\"Min-max normalization:\")\n",
    "print(normalize_neural_data(neural_activity, method=\"minmax\"))\n",
    "\n",
    "print(\"Z-score normalization:\")\n",
    "print(normalize_neural_data(neural_activity, method=\"zscore\"))\n"
   ]
  },
  {
   "cell_type": "code",
   "execution_count": null,
   "id": "fa5148f6-933e-40f8-a7d2-d24370541cef",
   "metadata": {},
   "outputs": [],
   "source": []
  }
 ],
 "metadata": {
  "kernelspec": {
   "display_name": "Python 3 (ipykernel)",
   "language": "python",
   "name": "python3"
  },
  "language_info": {
   "codemirror_mode": {
    "name": "ipython",
    "version": 3
   },
   "file_extension": ".py",
   "mimetype": "text/x-python",
   "name": "python",
   "nbconvert_exporter": "python",
   "pygments_lexer": "ipython3",
   "version": "3.11.5"
  }
 },
 "nbformat": 4,
 "nbformat_minor": 5
}
